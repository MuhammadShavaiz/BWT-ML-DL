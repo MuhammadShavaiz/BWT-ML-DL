{
  "nbformat": 4,
  "nbformat_minor": 0,
  "metadata": {
    "colab": {
      "provenance": [],
      "authorship_tag": "ABX9TyPDOajGodeOUNYDPJHFWlOc",
      "include_colab_link": true
    },
    "kernelspec": {
      "name": "python3",
      "display_name": "Python 3"
    },
    "language_info": {
      "name": "python"
    }
  },
  "cells": [
    {
      "cell_type": "markdown",
      "metadata": {
        "id": "view-in-github",
        "colab_type": "text"
      },
      "source": [
        "<a href=\"https://colab.research.google.com/github/MuhammadShavaiz/BWT-ML-DL/blob/main/Assignment_Week_2.ipynb\" target=\"_parent\"><img src=\"https://colab.research.google.com/assets/colab-badge.svg\" alt=\"Open In Colab\"/></a>"
      ]
    },
    {
      "cell_type": "markdown",
      "source": [
        "# Question 1\n",
        "Write a code that will:\n",
        "1. Prompt the user to enter their name, age, email, and favorite number.\n",
        "2. Stores these inputs in a dictionary with appropriate keys.\n",
        "3. Validate the email format (contains \"@\" and \".\").\n",
        "4. Displays a message using these variables, formatted as: \"Hello [name], you are [age] years old, your email is [email], and your favorite number is [favorite number].\"\n",
        "\n",
        "# Explanation:\n",
        "The fucntions takes input of the data from users and then check if email is of the required format, is True then return the data in form of a dictionary otherwise promt user with an error message. finally print the data."
      ],
      "metadata": {
        "id": "teoh_xGGFP5m"
      }
    },
    {
      "cell_type": "code",
      "execution_count": 1,
      "metadata": {
        "colab": {
          "base_uri": "https://localhost:8080/"
        },
        "id": "6zIGe8IZFGf4",
        "outputId": "af1e1eb4-6823-4d68-ffb9-deccd8b47e2c"
      },
      "outputs": [
        {
          "output_type": "stream",
          "name": "stdout",
          "text": [
            "Enter your name: Muhammad Shavaiz Butt\n",
            "Enter your age: 22\n",
            "Enter your email: shavaizsohail@gmail.com\n",
            "Enter your favorite number: 10\n",
            "Hello Muhammad Shavaiz Butt, you are 22 years old, your email is shavaizsohail@gmail.com, and your favorite number is 10.\n"
          ]
        }
      ],
      "source": [
        "def user_info():\n",
        "    while True:\n",
        "        name = input(\"Enter your name: \")\n",
        "        age = input(\"Enter your age: \")\n",
        "        email = input(\"Enter your email: \")\n",
        "        fav_num = input(\"Enter your favorite number: \")\n",
        "\n",
        "        if \"@\" in email and \".\" in email:\n",
        "            user_inf = {\n",
        "                'name': name,\n",
        "                'age': age,\n",
        "                'email': email,\n",
        "                'favorite_number': fav_num\n",
        "            }\n",
        "            return user_inf\n",
        "        else:\n",
        "            print(\"Invalid email address. Please try again.\")\n",
        "\n",
        "if __name__ == \"__main__\":\n",
        "    user_data = user_info()\n",
        "    print(f\"Hello {user_data['name']}, you are {user_data['age']} years old, your email is {user_data['email']}, and your favorite number is {user_data['favorite_number']}.\")"
      ]
    },
    {
      "cell_type": "markdown",
      "source": [
        "# Question 2\n",
        "Write a code for a function `Is_even(number)` that will:\n",
        "1. Takes an integer as an input.\n",
        "2. Returns True if the number is even, otherwise False if the number is odd.\n",
        "3. Print whether the number was even or odd hint: use conditions\n",
        "\n",
        "# Explanation\n",
        "The function takes a number as input, converts it into integer and then checks if number is completely divisible by 2(even) or not completely divisible by 2(odd).\n"
      ],
      "metadata": {
        "id": "LlqxRCD1IWqC"
      }
    },
    {
      "cell_type": "code",
      "source": [
        "def Is_even(number):\n",
        "  number = int(number)\n",
        "  if number%2 == 0:\n",
        "    return True\n",
        "  else:\n",
        "    return False\n",
        "if __name__ == \"__main__\":\n",
        "  number = input(\"enter an integer: \")\n",
        "  if Is_even(number):\n",
        "    print(\"number is even\")\n",
        "  else:\n",
        "    print(\"number is odd\")"
      ],
      "metadata": {
        "colab": {
          "base_uri": "https://localhost:8080/"
        },
        "id": "nDhQExExIZkE",
        "outputId": "c6c25d9e-b51c-4075-b0e1-bb2bec971ad5"
      },
      "execution_count": 7,
      "outputs": [
        {
          "output_type": "stream",
          "name": "stdout",
          "text": [
            "enter an integer: 10\n",
            "number is even\n"
          ]
        }
      ]
    },
    {
      "cell_type": "markdown",
      "source": [
        "# Question 3\n",
        "Write a function `convert_temperature(temp, scale)` that:\n",
        "1. Takes a temperature value and a scale (\"C\" for Celsius, \"F\" for Fahrenheit) as inputs.\n",
        "2. Converts the temperature to the other scale.\n",
        "3. Returns the converted temperature.\n",
        "4. Display the converted temperature.\n",
        "\n",
        "# Explanation\n",
        "The function takes the temperature and scale as input. it checks the scale and then apply mathematical formula for converting the temperature accordingly. the main takes input of temperatur and scale from user and then pass them to function. finally it prints the converted temperature."
      ],
      "metadata": {
        "id": "WA4gFcDAJ0Ic"
      }
    },
    {
      "cell_type": "code",
      "source": [
        "def convert_temperature(temp, scale):\n",
        "  temp = int(temp)\n",
        "  if scale == \"C\":\n",
        "    temp = (temp * 9/5) + 32\n",
        "  elif scale == \"F\":\n",
        "    temp = (temp - 32) * 5/9\n",
        "  else:\n",
        "    print(\"invalid Scale\")\n",
        "  return temp\n",
        "if __name__ == \"__main__\":\n",
        "  temp = input(\"enter a temperature: \")\n",
        "  scale = input(\"enter C for celsius scale, F for Farenheit scale: \")\n",
        "  convert_temp = convert_temperature(temp, scale)\n",
        "  print(\"converted temperature is: \" + str(convert_temp))"
      ],
      "metadata": {
        "colab": {
          "base_uri": "https://localhost:8080/"
        },
        "id": "rqanNMOdJ3Gd",
        "outputId": "9c27f447-97a1-42cc-dea5-921bfea77a80"
      },
      "execution_count": 10,
      "outputs": [
        {
          "output_type": "stream",
          "name": "stdout",
          "text": [
            "enter a temperature: 100\n",
            "enter C for celsius scale, F for Farenheit scale: C\n",
            "converted temperature is: 212.0\n"
          ]
        }
      ]
    },
    {
      "cell_type": "markdown",
      "source": [
        "# Question 4\n",
        "Write a code that will:\n",
        "1. Contains a function `find_max_min(numbers_list)` that takes a list of numbers and returns both the maximum and minimum numbers in the list.\n",
        "2. Prompts the user to enter 5 numbers, stores them in a list, and then uses the `find_max_min` function to find and display the maximum and minimum numbers\n",
        "\n",
        "# Explanation:\n",
        "The function take a number list as input and then uses python inbuild function to select the max and min number in the list and return them.\n",
        "the main takes 5 float inputs from user and insert them into a list, then pass this list to the function defined. finally we print the min max number."
      ],
      "metadata": {
        "id": "rRe0XmNJMD9r"
      }
    },
    {
      "cell_type": "code",
      "source": [
        "def find_max_min(numbers_list):\n",
        "    return max(numbers_list), min(numbers_list)\n",
        "if __name__ == \"__main__\":\n",
        "  numbers = []\n",
        "  for i in range(5):\n",
        "      num = float(input(\"Enter a number: \"))\n",
        "      numbers.append(num)\n",
        "\n",
        "  max_num, min_num = find_max_min(numbers)\n",
        "  print(f\"The maximum number is {max_num}\")\n",
        "  print(f\"The minimum number is {min_num}\")"
      ],
      "metadata": {
        "colab": {
          "base_uri": "https://localhost:8080/"
        },
        "id": "hBCQvAGkMBhj",
        "outputId": "03f58a80-36a2-4a8c-a91e-37b6aee42c46"
      },
      "execution_count": 11,
      "outputs": [
        {
          "output_type": "stream",
          "name": "stdout",
          "text": [
            "Enter a number: 10\n",
            "Enter a number: 11\n",
            "Enter a number: 5\n",
            "Enter a number: 20\n",
            "Enter a number: 50\n",
            "The maximum number is 50.0\n",
            "The minimum number is 5.0\n"
          ]
        }
      ]
    },
    {
      "cell_type": "markdown",
      "source": [
        "# Question 5\n",
        "Write a code that will:\n",
        "1. Prompt the user to enter details of 3 students: name, age, and grade.\n",
        "2. Stores these details in a list of tuples, with each tuple containing the name, age, and grade of a student.\n",
        "3. Convert this list of tuples into a dictionary with the student name as the key and the tuple (age, grade) as the value.\n",
        "4. Displays an appropriate output.\n",
        "\n",
        "# Explanation:\n",
        "make a list and append tuples by looping 3 times and asking users to input required data. make use of list to construct a dictionary with name as the key and age, grade as the values.\n",
        "another for loop to print the details in the dictionary."
      ],
      "metadata": {
        "id": "e_s1pzrgNaVX"
      }
    },
    {
      "cell_type": "code",
      "source": [
        "students_details = []\n",
        "for _ in range(3):\n",
        "    name = input(\"Enter the name of the student: \")\n",
        "    age = int(input(\"Enter the age of the student: \"))\n",
        "    grade = input(\"Enter the grade of the student: \")\n",
        "    students_details.append((name, age, grade))\n",
        "\n",
        "student_dict = {name: (age, grade) for name, age, grade in students_details}\n",
        "\n",
        "print(\"Student Details: \")\n",
        "for name, (age, grade) in student_dict.items():\n",
        "    print(f\"Name: {name}, Age: {age}, Grade: {grade}\")"
      ],
      "metadata": {
        "colab": {
          "base_uri": "https://localhost:8080/"
        },
        "id": "0BHe3cFuNdyP",
        "outputId": "aa18fcd2-e82f-4c0f-ddfb-bed510d512b0"
      },
      "execution_count": 12,
      "outputs": [
        {
          "output_type": "stream",
          "name": "stdout",
          "text": [
            "Enter the name of the student: shavaiz\n",
            "Enter the age of the student: 22\n",
            "Enter the grade of the student: 4\n",
            "Enter the name of the student: ali\n",
            "Enter the age of the student: 22\n",
            "Enter the grade of the student: 3\n",
            "Enter the name of the student: ahmed\n",
            "Enter the age of the student: 22\n",
            "Enter the grade of the student: 2\n",
            "Student Details: \n",
            "Name: shavaiz, Age: 22, Grade: 4\n",
            "Name: ali, Age: 22, Grade: 3\n",
            "Name: ahmed, Age: 22, Grade: 2\n"
          ]
        }
      ]
    },
    {
      "cell_type": "markdown",
      "source": [
        "# Question 6\n",
        "Write a code for function `update_inventory(inventory_dict, item, quantity)` that will:\n",
        "1. Take a dictionary where keys are item names and values are quantities, an item name, and a quantity to add or remove.\n",
        "2. Updates the inventory by adding or removing the specified quantity (use negative values for removal).\n",
        "3. Ensures that the quantity of any item does not go below zero.\n",
        "4. Returns the updated dictionary.\n",
        "\n",
        "Use this function to\n",
        "1. Initialize an inventory dictionary with at least 5 items.\n",
        "2. Prompt the user to update the inventory by adding or removing quantities of 3 items.\n",
        "3. Display the updated inventory.\n",
        "\n",
        "# Explanation:\n",
        "This code defines a function update_inventory that modifies an inventory dictionary by adjusting the quantity of specified items. It then initializes an inventory with five items and allows the user to update the quantities of up to three items. Finally, it prints the updated inventory.\n"
      ],
      "metadata": {
        "id": "5_CXfUffS0YP"
      }
    },
    {
      "cell_type": "code",
      "source": [
        "def update_inventory(inventory_dict, item, quantity):\n",
        "    if item in inventory_dict:\n",
        "        inventory_dict[item] += quantity\n",
        "        inventory_dict[item] = max(0, inventory_dict[item])\n",
        "    else:\n",
        "        inventory_dict[item] = quantity\n",
        "    return inventory_dict\n",
        "\n",
        "inventory = {\n",
        "    \"Apples\": 10,\n",
        "    \"Bananas\": 20,\n",
        "    \"Oranges\": 30,\n",
        "    \"Grapes\": 40,\n",
        "    \"Pears\": 50\n",
        "}\n",
        "\n",
        "print(\"Current Inventory: \")\n",
        "for item, quantity in inventory.items():\n",
        "    print(f\"{item}: {quantity}\")\n",
        "\n",
        "for _ in range(3):\n",
        "    item_to_update = input(\"Enter the name of an item to update: \")\n",
        "    quantity_change = int(input(\"Enter the new quantity (+ for addition, - for subtraction): \"))\n",
        "    inventory = update_inventory(inventory, item_to_update, quantity_change)\n",
        "print(\"nUpdated Inventory: \")\n",
        "for item, quantity in inventory.items():\n",
        "    print(f\"{item}: {quantity}\")"
      ],
      "metadata": {
        "colab": {
          "base_uri": "https://localhost:8080/"
        },
        "id": "n-GwDUSxPJV8",
        "outputId": "b893488d-3c72-496b-e1ce-432bf6d1bb63"
      },
      "execution_count": 15,
      "outputs": [
        {
          "output_type": "stream",
          "name": "stdout",
          "text": [
            "Current Inventory: \n",
            "Apples: 10\n",
            "Bananas: 20\n",
            "Oranges: 30\n",
            "Grapes: 40\n",
            "Pears: 50\n",
            "Enter the name of an item to update: Apples\n",
            "Enter the new quantity (+ for addition, - for subtraction): -10\n",
            "Enter the name of an item to update: Pears\n",
            "Enter the new quantity (+ for addition, - for subtraction): +10\n",
            "Enter the name of an item to update: Oranges\n",
            "Enter the new quantity (+ for addition, - for subtraction): +20\n",
            "nUpdated Inventory: \n",
            "Apples: 0\n",
            "Bananas: 20\n",
            "Oranges: 50\n",
            "Grapes: 40\n",
            "Pears: 60\n"
          ]
        }
      ]
    }
  ]
}