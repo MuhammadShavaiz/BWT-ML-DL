{
  "nbformat": 4,
  "nbformat_minor": 0,
  "metadata": {
    "colab": {
      "provenance": [],
      "authorship_tag": "ABX9TyMCLTGAhn8GDOD45CT22p+w",
      "include_colab_link": true
    },
    "kernelspec": {
      "name": "python3",
      "display_name": "Python 3"
    },
    "language_info": {
      "name": "python"
    }
  },
  "cells": [
    {
      "cell_type": "markdown",
      "metadata": {
        "id": "view-in-github",
        "colab_type": "text"
      },
      "source": [
        "<a href=\"https://colab.research.google.com/github/MuhammadShavaiz/BWT-ML-DL/blob/main/Week_3_Assignmentpynb.ipynb\" target=\"_parent\"><img src=\"https://colab.research.google.com/assets/colab-badge.svg\" alt=\"Open In Colab\"/></a>"
      ]
    },
    {
      "cell_type": "markdown",
      "source": [
        "#Muhammad Shavaiz Butt\n",
        "#ASSIGNMENT 3"
      ],
      "metadata": {
        "id": "7aC3_j4ZOlGp"
      }
    },
    {
      "cell_type": "markdown",
      "source": [
        "# TASK 1:"
      ],
      "metadata": {
        "id": "vfjbY0QrIa2q"
      }
    },
    {
      "cell_type": "code",
      "execution_count": 2,
      "metadata": {
        "colab": {
          "base_uri": "https://localhost:8080/"
        },
        "id": "9kCZHTjdGCVV",
        "outputId": "f29d5d5a-0143-4307-b7db-fbd38d535d1d"
      },
      "outputs": [
        {
          "output_type": "stream",
          "name": "stdout",
          "text": [
            "Python by Shavaiz\n",
            "Shavaiz\n",
            "100\n",
            "ML by Shavaiz\n",
            "Muhammad Shavaiz\n",
            "200\n",
            "240.0\n",
            "Title: Deep learning, Author: SHAVAIZ, Pages: 300, Format: PDF\n"
          ]
        }
      ],
      "source": [
        "class Book:\n",
        "    def __init__(self, title, author, pages):\n",
        "        self._title = title\n",
        "        self._author = author\n",
        "        self._pages = pages\n",
        "\n",
        "    def get_title(self):\n",
        "        return self._title\n",
        "\n",
        "    def set_title(self, title):\n",
        "        self._title = title\n",
        "\n",
        "    def get_author(self):\n",
        "        return self._author\n",
        "\n",
        "    def set_author(self, author):\n",
        "        self._author = author\n",
        "\n",
        "    def get_pages(self):\n",
        "        return self._pages\n",
        "\n",
        "    def set_pages(self, pages):\n",
        "        self._pages = pages\n",
        "\n",
        "    @classmethod\n",
        "    def reading_time(cls, pages, words_per_minute=250):\n",
        "        words_per_page = 300\n",
        "        total_words = pages * words_per_page\n",
        "        return total_words / words_per_minute\n",
        "\n",
        "class Ebook(Book):\n",
        "    def __init__(self, title, author, pages, format):\n",
        "        super().__init__(title, author, pages)\n",
        "        self._format = format\n",
        "\n",
        "    def __str__(self):\n",
        "        return f\"Title: {self._title}, Author: {self._author}, Pages: {self._pages}, Format: {self._format}\"\n",
        "\n",
        "book = Book(\"Python by Shavaiz\", \"Shavaiz\", 100)\n",
        "print(book.get_title())\n",
        "print(book.get_author())\n",
        "print(book.get_pages())\n",
        "\n",
        "book.set_title(\"ML by Shavaiz\")\n",
        "book.set_author(\"Muhammad Shavaiz\")\n",
        "book.set_pages(200)\n",
        "print(book.get_title())\n",
        "print(book.get_author())\n",
        "print(book.get_pages())\n",
        "\n",
        "print(Book.reading_time(book.get_pages()))\n",
        "\n",
        "ebook = Ebook(\"Deep learning\", \"SHAVAIZ\", 300, \"PDF\")\n",
        "print(ebook)\n"
      ]
    },
    {
      "cell_type": "markdown",
      "source": [
        "# TASK 2:"
      ],
      "metadata": {
        "id": "AYYSGtBfIfru"
      }
    },
    {
      "cell_type": "code",
      "source": [
        "def read_file(file_path):\n",
        "    try:\n",
        "        with open(file_path, 'r') as file:\n",
        "            contents = file.read()\n",
        "            print(\"File contents:\")\n",
        "            print(contents)\n",
        "            words = contents.split()\n",
        "            word_count = len(words)\n",
        "            print(f\"\\nWord count: {word_count}\")\n",
        "    except FileNotFoundError:\n",
        "        print(f\"Error: The file {file_path} was not found.\")\n",
        "    except IOError:\n",
        "        print(f\"Error: An error occurred while reading the file {file_path}.\")\n",
        "\n",
        "def write_to_file(file_path):\n",
        "    try:\n",
        "        user_input = input(\"Enter text to write to the file: \")\n",
        "        with open(file_path, 'w') as file:\n",
        "            file.write(user_input)\n",
        "            print(f\"Text successfully written to {file_path}.\")\n",
        "    except IOError:\n",
        "        print(f\"Error: An error occurred while writing to the file {file_path}.\")\n",
        "\n",
        "read_file('/content/data.txt')\n",
        "write_to_file('/content/output.txt')\n",
        "read_file('/content/output.txt')\n"
      ],
      "metadata": {
        "colab": {
          "base_uri": "https://localhost:8080/"
        },
        "id": "X3wvRLXnIibC",
        "outputId": "3e703b7b-28ac-429f-cae9-c0b81cd86a4c"
      },
      "execution_count": 5,
      "outputs": [
        {
          "output_type": "stream",
          "name": "stdout",
          "text": [
            "File contents:\n",
            "this is a test file \n",
            "\n",
            "Word count: 5\n",
            "Enter text to write to the file: this is output text\n",
            "Text successfully written to /content/output.txt.\n",
            "File contents:\n",
            "this is output text\n",
            "\n",
            "Word count: 4\n"
          ]
        }
      ]
    },
    {
      "cell_type": "markdown",
      "source": [
        "# TASK 3\n",
        "this is a way to ensure the directory structure in google colab...i could not use the math as package name because it was conflicting with the original math package\n"
      ],
      "metadata": {
        "id": "tNA2AHWtKk0J"
      }
    },
    {
      "cell_type": "code",
      "source": [
        "# Create directories and module files\n",
        "!mkdir -p mymath\n",
        "!echo \"def add(a, b): return a + b\" > mymath/addition.py\n",
        "!echo \"def subtract(a, b): return a - b\" > mymath/subtraction.py\n",
        "!echo \"def multiply(a, b): return a * b\" > mymath/multiplication.py\n",
        "!echo \"def divide(a, b): return a / b if b != 0 else 'Error: Division by zero'\" > mymath/division.py\n",
        "!echo \"def modulus(a, b): return a % b\" > mymath/modulus.py\n",
        "!echo \"def exponentiate(a, b): return a ** b\" > mymath/exponentiation.py\n",
        "!echo \"def square_root(a): return a ** 0.5 if a >= 0 else 'Error: Square root of negative number'\" > mymath/square_root.py\n",
        "\n",
        "# Create the main script\n",
        "main_script = \"\"\"\n",
        "from mymath.addition import add\n",
        "from mymath.subtraction import subtract\n",
        "from mymath.multiplication import multiply\n",
        "from mymath.division import divide\n",
        "from mymath.modulus import modulus\n",
        "from mymath.exponentiation import exponentiate\n",
        "from mymath.square_root import square_root\n",
        "\n",
        "print(add(10, 5))\n",
        "print(subtract(10, 5))\n",
        "print(multiply(10, 5))\n",
        "print(divide(10, 5))\n",
        "print(modulus(10, 5))\n",
        "print(exponentiate(10, 2))\n",
        "print(square_root(25))\n",
        "print(square_root(-25))\n",
        "\"\"\"\n",
        "\n",
        "with open(\"main.py\", \"w\") as f:\n",
        "    f.write(main_script)\n",
        "\n",
        "# Run the main script\n",
        "!python main.py\n"
      ],
      "metadata": {
        "colab": {
          "base_uri": "https://localhost:8080/"
        },
        "id": "y0yQWrIOKoBi",
        "outputId": "0d6489a9-9d3d-4fee-db63-f80a464a15cd"
      },
      "execution_count": 8,
      "outputs": [
        {
          "output_type": "stream",
          "name": "stdout",
          "text": [
            "15\n",
            "5\n",
            "50\n",
            "2.0\n",
            "0\n",
            "100\n",
            "5.0\n",
            "Error: Square root of negative number\n"
          ]
        }
      ]
    },
    {
      "cell_type": "markdown",
      "source": [
        "#TASK 4"
      ],
      "metadata": {
        "id": "AtIF_IQ3NtYb"
      }
    },
    {
      "cell_type": "code",
      "source": [
        "class Countdown:\n",
        "    def __init__(self, start):\n",
        "        self.current = start\n",
        "\n",
        "    def __iter__(self):\n",
        "        return self\n",
        "\n",
        "    def __next__(self):\n",
        "        if self.current < 1:\n",
        "            raise StopIteration\n",
        "        current = self.current\n",
        "        self.current -= 1\n",
        "        return current\n",
        "\n",
        "def fibonacci_generator(limit):\n",
        "    a, b = 0, 1\n",
        "    while a < limit:\n",
        "        yield a\n",
        "        a, b = b, a + b\n",
        "\n",
        "import random\n",
        "\n",
        "def random_number_generator(low, high, count):\n",
        "    for _ in range(count):\n",
        "        yield random.randint(low, high)\n",
        "\n",
        "countdown = Countdown(5)\n",
        "print(\"countdown: \")\n",
        "for number in countdown:\n",
        "    print(number)\n",
        "\n",
        "print(\"fibonacci_generator: \")\n",
        "for number in fibonacci_generator(50):\n",
        "    print(number)\n",
        "\n",
        "print(\"random_number generator: \")\n",
        "for number in random_number_generator(1, 100, 10):\n",
        "    print(number)\n"
      ],
      "metadata": {
        "colab": {
          "base_uri": "https://localhost:8080/"
        },
        "id": "RrP97tESNvSF",
        "outputId": "1e6b0247-3f8e-47fa-af05-84b23b9de4f1"
      },
      "execution_count": 10,
      "outputs": [
        {
          "output_type": "stream",
          "name": "stdout",
          "text": [
            "countdown: \n",
            "5\n",
            "4\n",
            "3\n",
            "2\n",
            "1\n",
            "fibonacci_generator: \n",
            "0\n",
            "1\n",
            "1\n",
            "2\n",
            "3\n",
            "5\n",
            "8\n",
            "13\n",
            "21\n",
            "34\n",
            "random_number generator: \n",
            "26\n",
            "23\n",
            "54\n",
            "94\n",
            "21\n",
            "29\n",
            "54\n",
            "83\n",
            "81\n",
            "74\n"
          ]
        }
      ]
    }
  ]
}